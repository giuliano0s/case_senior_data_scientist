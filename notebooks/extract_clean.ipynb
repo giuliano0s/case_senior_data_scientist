{
 "cells": [
  {
   "cell_type": "markdown",
   "id": "488f60ff",
   "metadata": {},
   "source": [
    "# Setup"
   ]
  },
  {
   "cell_type": "code",
   "execution_count": null,
   "id": "1d34d8e3",
   "metadata": {},
   "outputs": [],
   "source": [
    "import pandas as pd\n",
    "import numpy as np\n",
    "from IPython.display import display\n",
    "\n",
    "import os\n",
    "\n",
    "from sqlalchemy import create_engine\n",
    "\n",
    "pd.set_option('display.float_format', '{:.2f}'.format)\n",
    "\n",
    "# Variaveis de ambiente\n",
    "host = os.getenv(\"MYSQL_HOST\")\n",
    "user = os.getenv(\"MYSQL_USER\")\n",
    "password = os.getenv(\"MYSQL_PASSWORD\")\n",
    "database = os.getenv(\"MYSQL_DB\")\n",
    "port = os.getenv(\"MYSQL_PORT\")"
   ]
  },
  {
   "cell_type": "markdown",
   "id": "b5722366",
   "metadata": {},
   "source": [
    "### Funções"
   ]
  },
  {
   "cell_type": "code",
   "execution_count": null,
   "id": "99308d10",
   "metadata": {},
   "outputs": [],
   "source": [
    "# Describe geral\n",
    "# Mostra informações essenciais das tabelas:\n",
    "# NaNs, Apps unicos, Shape, Range de datas, dtypes, describe\n",
    "\n",
    "def describe_geral(df, nome):\n",
    "    valores_na = df.isna().sum()\n",
    "    apps_unicos = len(df.appid.unique())\n",
    "    shape = df.shape\n",
    "\n",
    "    print(\"==================\"*4)\n",
    "    print(f\"Tabela: {nome}\")\n",
    "    print(f\"Valores NaN:\\n{valores_na}\\n\")\n",
    "    print(f\"Apps unicos: {apps_unicos}\")\n",
    "    print(f\"Shape: {shape}\")\n",
    "    print(f\"Data maxima: {df.date.max()}\")\n",
    "    print(f\"Data minima: {df.date.min()}\")\n",
    "    print(f\"\\nDTypes:\\n{df.dtypes}\")\n",
    "    display(df.describe().T.drop('date'))\n",
    "\n",
    "# Preenche os valores nulos pela mediana de cada app\n",
    "def preencher_com_mediana(df, colunas):\n",
    "    df_temp = df.copy()\n",
    "\n",
    "    for coluna in colunas:\n",
    "        df_temp[coluna] = df_temp.groupby('appid')[coluna].transform(lambda x: x.fillna(round(x.dropna().median())))\n",
    "\n",
    "    return df_temp"
   ]
  },
  {
   "cell_type": "markdown",
   "id": "34d8d8ec",
   "metadata": {},
   "source": [
    "### Carrega (primeira run)\n",
    "Lê os dados do MySQL e salva na base local"
   ]
  },
  {
   "cell_type": "code",
   "execution_count": null,
   "id": "fdc8c174",
   "metadata": {},
   "outputs": [
    {
     "name": "stdout",
     "output_type": "stream",
     "text": [
      "  Tables_in_case_data_scientist\n",
      "0                        daumau\n",
      "1                desinstalacoes\n",
      "2                      installs\n",
      "3               ratings_reviews\n"
     ]
    }
   ],
   "source": [
    "# Cria a engine\n",
    "engine = create_engine(f'mysql+pymysql://{user}:{password}@{host}:{port}/{database}')\n",
    "\n",
    "# Mostra as tabelas\n",
    "with engine.connect() as conn:\n",
    "    tables = pd.read_sql(\"SHOW TABLES;\", conn)\n",
    "    print(tables)"
   ]
  },
  {
   "cell_type": "code",
   "execution_count": 190,
   "id": "5bdc4a9f",
   "metadata": {},
   "outputs": [
    {
     "name": "stdout",
     "output_type": "stream",
     "text": [
      "Lendo tabela: daumau\n",
      "Lendo tabela: desinstalacoes\n",
      "Lendo tabela: installs\n",
      "Lendo tabela: ratings_reviews\n"
     ]
    }
   ],
   "source": [
    "# Seleciona tabelas essenciais\n",
    "keep_tables = tables['Tables_in_case_data_scientist']\n",
    "\n",
    "# Leitura de dados\n",
    "raw_data = {}\n",
    "\n",
    "for table in keep_tables:\n",
    "    print(f\"Lendo tabela: {table}\")\n",
    "    raw_data[table] = pd.read_sql(f\"SELECT * FROM {table} LIMIT 100000;\", con=engine)\n",
    "    raw_data[table].to_csv(f\"../data/raw/{table}_raw.csv\", index=False)"
   ]
  },
  {
   "cell_type": "markdown",
   "id": "3c9e100b",
   "metadata": {},
   "source": [
    "### Carrega (outras runs)\n",
    "Lê os dados locais"
   ]
  },
  {
   "cell_type": "code",
   "execution_count": 324,
   "id": "82082ed8",
   "metadata": {},
   "outputs": [
    {
     "name": "stdout",
     "output_type": "stream",
     "text": [
      "Lendo tabela: daumau\n",
      "Lendo tabela: desinstalacoes\n",
      "Lendo tabela: installs\n",
      "Lendo tabela: ratings_reviews\n"
     ]
    }
   ],
   "source": [
    "tables = ['daumau', 'desinstalacoes', 'installs', 'ratings_reviews']\n",
    "\n",
    "# Leitura de dados\n",
    "raw_data = {}\n",
    "\n",
    "for table in tables:\n",
    "    print(f\"Lendo tabela: {table}\")\n",
    "    raw_data[table] = pd.read_csv(f\"../data/raw/{table}_raw.csv\").convert_dtypes()\n",
    "    raw_data[table].columns = raw_data[table].columns.str.lower()\n",
    "    raw_data[table][\"date\"] = pd.to_datetime(raw_data[table][\"date\"]).dt.floor(\"D\")"
   ]
  },
  {
   "cell_type": "markdown",
   "id": "a2aa8174",
   "metadata": {},
   "source": [
    "### Describe geral\n",
    "-  Descrição geral dos dados com: NaNs, range de datas, dtypes, describe()"
   ]
  },
  {
   "cell_type": "code",
   "execution_count": 325,
   "id": "ed835ba6",
   "metadata": {},
   "outputs": [
    {
     "name": "stdout",
     "output_type": "stream",
     "text": [
      "========================================================================\n",
      "Tabela: daumau\n",
      "Valores NaN:\n",
      "appid       28\n",
      "date         0\n",
      "daureal    194\n",
      "maureal     20\n",
      "dtype: int64\n",
      "\n",
      "Apps unicos: 196\n",
      "Shape: (41299, 4)\n",
      "Data maxima: 2220-07-31 00:00:00\n",
      "Data minima: 1912-02-01 00:00:00\n",
      "\n",
      "DTypes:\n",
      "appid      string[python]\n",
      "date       datetime64[ns]\n",
      "daureal             Int64\n",
      "maureal             Int64\n",
      "dtype: object\n"
     ]
    },
    {
     "data": {
      "text/html": [
       "<div>\n",
       "<style scoped>\n",
       "    .dataframe tbody tr th:only-of-type {\n",
       "        vertical-align: middle;\n",
       "    }\n",
       "\n",
       "    .dataframe tbody tr th {\n",
       "        vertical-align: top;\n",
       "    }\n",
       "\n",
       "    .dataframe thead th {\n",
       "        text-align: right;\n",
       "    }\n",
       "</style>\n",
       "<table border=\"1\" class=\"dataframe\">\n",
       "  <thead>\n",
       "    <tr style=\"text-align: right;\">\n",
       "      <th></th>\n",
       "      <th>count</th>\n",
       "      <th>mean</th>\n",
       "      <th>min</th>\n",
       "      <th>25%</th>\n",
       "      <th>50%</th>\n",
       "      <th>75%</th>\n",
       "      <th>max</th>\n",
       "      <th>std</th>\n",
       "    </tr>\n",
       "  </thead>\n",
       "  <tbody>\n",
       "    <tr>\n",
       "      <th>daureal</th>\n",
       "      <td>41105.00</td>\n",
       "      <td>440147.21</td>\n",
       "      <td>750.00</td>\n",
       "      <td>8661.00</td>\n",
       "      <td>31037.00</td>\n",
       "      <td>162982.00</td>\n",
       "      <td>10648152.00</td>\n",
       "      <td>1336407.18</td>\n",
       "    </tr>\n",
       "    <tr>\n",
       "      <th>maureal</th>\n",
       "      <td>41279.00</td>\n",
       "      <td>1912598.66</td>\n",
       "      <td>750.00</td>\n",
       "      <td>78105.00</td>\n",
       "      <td>231074.00</td>\n",
       "      <td>856236.00</td>\n",
       "      <td>29605840.00</td>\n",
       "      <td>4786170.50</td>\n",
       "    </tr>\n",
       "  </tbody>\n",
       "</table>\n",
       "</div>"
      ],
      "text/plain": [
       "           count       mean    min      25%       50%       75%         max  \\\n",
       "daureal 41105.00  440147.21 750.00  8661.00  31037.00 162982.00 10648152.00   \n",
       "maureal 41279.00 1912598.66 750.00 78105.00 231074.00 856236.00 29605840.00   \n",
       "\n",
       "               std  \n",
       "daureal 1336407.18  \n",
       "maureal 4786170.50  "
      ]
     },
     "metadata": {},
     "output_type": "display_data"
    },
    {
     "name": "stdout",
     "output_type": "stream",
     "text": [
      "========================================================================\n",
      "Tabela: desinstalacoes\n",
      "Valores NaN:\n",
      "appid             0\n",
      "date              0\n",
      "country           0\n",
      "lang              0\n",
      "predictionloss    0\n",
      "dtype: int64\n",
      "\n",
      "Apps unicos: 195\n",
      "Shape: (53188, 5)\n",
      "Data maxima: 2024-10-07 00:00:00\n",
      "Data minima: 2024-01-01 00:00:00\n",
      "\n",
      "DTypes:\n",
      "appid             string[python]\n",
      "date              datetime64[ns]\n",
      "country           string[python]\n",
      "lang              string[python]\n",
      "predictionloss             Int64\n",
      "dtype: object\n"
     ]
    },
    {
     "data": {
      "text/html": [
       "<div>\n",
       "<style scoped>\n",
       "    .dataframe tbody tr th:only-of-type {\n",
       "        vertical-align: middle;\n",
       "    }\n",
       "\n",
       "    .dataframe tbody tr th {\n",
       "        vertical-align: top;\n",
       "    }\n",
       "\n",
       "    .dataframe thead th {\n",
       "        text-align: right;\n",
       "    }\n",
       "</style>\n",
       "<table border=\"1\" class=\"dataframe\">\n",
       "  <thead>\n",
       "    <tr style=\"text-align: right;\">\n",
       "      <th></th>\n",
       "      <th>count</th>\n",
       "      <th>mean</th>\n",
       "      <th>min</th>\n",
       "      <th>25%</th>\n",
       "      <th>50%</th>\n",
       "      <th>75%</th>\n",
       "      <th>max</th>\n",
       "      <th>std</th>\n",
       "    </tr>\n",
       "  </thead>\n",
       "  <tbody>\n",
       "    <tr>\n",
       "      <th>predictionloss</th>\n",
       "      <td>53188.00</td>\n",
       "      <td>11960.17</td>\n",
       "      <td>331.00</td>\n",
       "      <td>1760.00</td>\n",
       "      <td>3275.50</td>\n",
       "      <td>8728.00</td>\n",
       "      <td>189683.00</td>\n",
       "      <td>23733.22</td>\n",
       "    </tr>\n",
       "  </tbody>\n",
       "</table>\n",
       "</div>"
      ],
      "text/plain": [
       "                  count     mean    min     25%     50%     75%       max  \\\n",
       "predictionloss 53188.00 11960.17 331.00 1760.00 3275.50 8728.00 189683.00   \n",
       "\n",
       "                    std  \n",
       "predictionloss 23733.22  "
      ]
     },
     "metadata": {},
     "output_type": "display_data"
    },
    {
     "name": "stdout",
     "output_type": "stream",
     "text": [
      "========================================================================\n",
      "Tabela: installs\n",
      "Valores NaN:\n",
      "appid          0\n",
      "date           0\n",
      "newinstalls    0\n",
      "dtype: int64\n",
      "\n",
      "Apps unicos: 182\n",
      "Shape: (48150, 3)\n",
      "Data maxima: 2024-10-09 00:00:00\n",
      "Data minima: 2024-01-01 00:00:00\n",
      "\n",
      "DTypes:\n",
      "appid          string[python]\n",
      "date           datetime64[ns]\n",
      "newinstalls             Int64\n",
      "dtype: object\n"
     ]
    },
    {
     "data": {
      "text/html": [
       "<div>\n",
       "<style scoped>\n",
       "    .dataframe tbody tr th:only-of-type {\n",
       "        vertical-align: middle;\n",
       "    }\n",
       "\n",
       "    .dataframe tbody tr th {\n",
       "        vertical-align: top;\n",
       "    }\n",
       "\n",
       "    .dataframe thead th {\n",
       "        text-align: right;\n",
       "    }\n",
       "</style>\n",
       "<table border=\"1\" class=\"dataframe\">\n",
       "  <thead>\n",
       "    <tr style=\"text-align: right;\">\n",
       "      <th></th>\n",
       "      <th>count</th>\n",
       "      <th>mean</th>\n",
       "      <th>min</th>\n",
       "      <th>25%</th>\n",
       "      <th>50%</th>\n",
       "      <th>75%</th>\n",
       "      <th>max</th>\n",
       "      <th>std</th>\n",
       "    </tr>\n",
       "  </thead>\n",
       "  <tbody>\n",
       "    <tr>\n",
       "      <th>newinstalls</th>\n",
       "      <td>48150.00</td>\n",
       "      <td>4116.13</td>\n",
       "      <td>0.00</td>\n",
       "      <td>255.00</td>\n",
       "      <td>865.50</td>\n",
       "      <td>2969.00</td>\n",
       "      <td>73886.00</td>\n",
       "      <td>8873.38</td>\n",
       "    </tr>\n",
       "  </tbody>\n",
       "</table>\n",
       "</div>"
      ],
      "text/plain": [
       "               count    mean  min    25%    50%     75%      max     std\n",
       "newinstalls 48150.00 4116.13 0.00 255.00 865.50 2969.00 73886.00 8873.38"
      ]
     },
     "metadata": {},
     "output_type": "display_data"
    },
    {
     "name": "stdout",
     "output_type": "stream",
     "text": [
      "========================================================================\n",
      "Tabela: ratings_reviews\n",
      "Valores NaN:\n",
      "date             0\n",
      "appid            0\n",
      "category         0\n",
      "ratings          0\n",
      "daily_ratings    0\n",
      "reviews          0\n",
      "daily_reviews    0\n",
      "dtype: int64\n",
      "\n",
      "Apps unicos: 182\n",
      "Shape: (47155, 7)\n",
      "Data maxima: 2024-09-30 00:00:00\n",
      "Data minima: 2024-01-01 00:00:00\n",
      "\n",
      "DTypes:\n",
      "date             datetime64[ns]\n",
      "appid            string[python]\n",
      "category         string[python]\n",
      "ratings                   Int64\n",
      "daily_ratings             Int64\n",
      "reviews                   Int64\n",
      "daily_reviews             Int64\n",
      "dtype: object\n"
     ]
    },
    {
     "data": {
      "text/html": [
       "<div>\n",
       "<style scoped>\n",
       "    .dataframe tbody tr th:only-of-type {\n",
       "        vertical-align: middle;\n",
       "    }\n",
       "\n",
       "    .dataframe tbody tr th {\n",
       "        vertical-align: top;\n",
       "    }\n",
       "\n",
       "    .dataframe thead th {\n",
       "        text-align: right;\n",
       "    }\n",
       "</style>\n",
       "<table border=\"1\" class=\"dataframe\">\n",
       "  <thead>\n",
       "    <tr style=\"text-align: right;\">\n",
       "      <th></th>\n",
       "      <th>count</th>\n",
       "      <th>mean</th>\n",
       "      <th>min</th>\n",
       "      <th>25%</th>\n",
       "      <th>50%</th>\n",
       "      <th>75%</th>\n",
       "      <th>max</th>\n",
       "      <th>std</th>\n",
       "    </tr>\n",
       "  </thead>\n",
       "  <tbody>\n",
       "    <tr>\n",
       "      <th>ratings</th>\n",
       "      <td>47155.00</td>\n",
       "      <td>365547.03</td>\n",
       "      <td>10.00</td>\n",
       "      <td>8400.00</td>\n",
       "      <td>43922.00</td>\n",
       "      <td>204409.50</td>\n",
       "      <td>13236224.00</td>\n",
       "      <td>1231672.94</td>\n",
       "    </tr>\n",
       "    <tr>\n",
       "      <th>daily_ratings</th>\n",
       "      <td>47155.00</td>\n",
       "      <td>149.26</td>\n",
       "      <td>-711.00</td>\n",
       "      <td>2.00</td>\n",
       "      <td>12.00</td>\n",
       "      <td>74.00</td>\n",
       "      <td>34180.00</td>\n",
       "      <td>591.01</td>\n",
       "    </tr>\n",
       "    <tr>\n",
       "      <th>reviews</th>\n",
       "      <td>47155.00</td>\n",
       "      <td>94281.67</td>\n",
       "      <td>4.00</td>\n",
       "      <td>2572.00</td>\n",
       "      <td>13470.00</td>\n",
       "      <td>50277.00</td>\n",
       "      <td>1491128.00</td>\n",
       "      <td>234839.92</td>\n",
       "    </tr>\n",
       "    <tr>\n",
       "      <th>daily_reviews</th>\n",
       "      <td>47155.00</td>\n",
       "      <td>21.65</td>\n",
       "      <td>-75.00</td>\n",
       "      <td>0.00</td>\n",
       "      <td>3.00</td>\n",
       "      <td>12.00</td>\n",
       "      <td>2290.00</td>\n",
       "      <td>68.89</td>\n",
       "    </tr>\n",
       "  </tbody>\n",
       "</table>\n",
       "</div>"
      ],
      "text/plain": [
       "                 count      mean     min     25%      50%       75%  \\\n",
       "ratings       47155.00 365547.03   10.00 8400.00 43922.00 204409.50   \n",
       "daily_ratings 47155.00    149.26 -711.00    2.00    12.00     74.00   \n",
       "reviews       47155.00  94281.67    4.00 2572.00 13470.00  50277.00   \n",
       "daily_reviews 47155.00     21.65  -75.00    0.00     3.00     12.00   \n",
       "\n",
       "                      max        std  \n",
       "ratings       13236224.00 1231672.94  \n",
       "daily_ratings    34180.00     591.01  \n",
       "reviews        1491128.00  234839.92  \n",
       "daily_reviews     2290.00      68.89  "
      ]
     },
     "metadata": {},
     "output_type": "display_data"
    }
   ],
   "source": [
    "for nome_df in tables:\n",
    "    describe_geral(raw_data[nome_df], nome_df)"
   ]
  },
  {
   "cell_type": "markdown",
   "id": "54b7e754",
   "metadata": {},
   "source": [
    "# Limpeza\n",
    "- Tratamento dos dados: dados irrelevantes ou errados\n",
    "- Tratamento de NaNs será realizado depois de todos os joins"
   ]
  },
  {
   "cell_type": "markdown",
   "id": "18b4ac7b",
   "metadata": {},
   "source": [
    "### DAUMAU\n",
    "Problemas: \n",
    "- Datas erradas\n",
    "- Valores NaN"
   ]
  },
  {
   "cell_type": "code",
   "execution_count": 326,
   "id": "1fb20708",
   "metadata": {},
   "outputs": [],
   "source": [
    "df_temp = raw_data['daumau'].copy()"
   ]
  },
  {
   "cell_type": "code",
   "execution_count": 327,
   "id": "010397e8",
   "metadata": {},
   "outputs": [
    {
     "data": {
      "text/html": [
       "<div>\n",
       "<style scoped>\n",
       "    .dataframe tbody tr th:only-of-type {\n",
       "        vertical-align: middle;\n",
       "    }\n",
       "\n",
       "    .dataframe tbody tr th {\n",
       "        vertical-align: top;\n",
       "    }\n",
       "\n",
       "    .dataframe thead th {\n",
       "        text-align: right;\n",
       "    }\n",
       "</style>\n",
       "<table border=\"1\" class=\"dataframe\">\n",
       "  <thead>\n",
       "    <tr style=\"text-align: right;\">\n",
       "      <th></th>\n",
       "      <th>appid</th>\n",
       "      <th>date</th>\n",
       "      <th>daureal</th>\n",
       "      <th>maureal</th>\n",
       "    </tr>\n",
       "  </thead>\n",
       "  <tbody>\n",
       "    <tr>\n",
       "      <th>41198</th>\n",
       "      <td>com.app.26790</td>\n",
       "      <td>1980-07-01</td>\n",
       "      <td>1936</td>\n",
       "      <td>33995</td>\n",
       "    </tr>\n",
       "    <tr>\n",
       "      <th>41199</th>\n",
       "      <td>com.app.18251</td>\n",
       "      <td>1980-07-02</td>\n",
       "      <td>74810</td>\n",
       "      <td>308395</td>\n",
       "    </tr>\n",
       "    <tr>\n",
       "      <th>41200</th>\n",
       "      <td>com.app.96361</td>\n",
       "      <td>1980-07-03</td>\n",
       "      <td>859</td>\n",
       "      <td>6538</td>\n",
       "    </tr>\n",
       "    <tr>\n",
       "      <th>41201</th>\n",
       "      <td>com.app.99432</td>\n",
       "      <td>1980-07-04</td>\n",
       "      <td>1152801</td>\n",
       "      <td>2988638</td>\n",
       "    </tr>\n",
       "    <tr>\n",
       "      <th>41202</th>\n",
       "      <td>com.app.23305</td>\n",
       "      <td>1980-07-05</td>\n",
       "      <td>5963197</td>\n",
       "      <td>27521859</td>\n",
       "    </tr>\n",
       "  </tbody>\n",
       "</table>\n",
       "</div>"
      ],
      "text/plain": [
       "               appid       date  daureal   maureal\n",
       "41198  com.app.26790 1980-07-01     1936     33995\n",
       "41199  com.app.18251 1980-07-02    74810    308395\n",
       "41200  com.app.96361 1980-07-03      859      6538\n",
       "41201  com.app.99432 1980-07-04  1152801   2988638\n",
       "41202  com.app.23305 1980-07-05  5963197  27521859"
      ]
     },
     "metadata": {},
     "output_type": "display_data"
    },
    {
     "name": "stdout",
     "output_type": "stream",
     "text": [
      "1\n",
      "1\n",
      "1\n",
      "1\n",
      "1\n"
     ]
    }
   ],
   "source": [
    "# Problema das datas\n",
    "\n",
    "# Filtra apenas datas erradas\n",
    "df_temp = df_temp[~((df_temp[\"date\"] >= pd.to_datetime(\"2024-01-01\")) \n",
    "                    & (df_temp[\"date\"] <= pd.to_datetime(\"2024-12-31\")))]\n",
    "test_appids = df_temp[~df_temp['appid'].isna()].head(5)\n",
    "display(test_appids)\n",
    "\n",
    "# Apps com data errada possuem apenas 1 amostra na base\n",
    "# Sugere que não apenas as datas estão erradas, mas toda a linha\n",
    "for test_id in test_appids.appid:\n",
    "    len_test = len(df_temp[df_temp['appid'] == test_id])\n",
    "    print(len_test)\n",
    "\n",
    "# Remover linhas com datas erradas.\n",
    "raw_data['daumau'] = raw_data['daumau'][(raw_data['daumau'][\"date\"] >= pd.to_datetime(\"2024-01-01\")) \n",
    "                                     & (raw_data['daumau'][\"date\"] <= pd.to_datetime(\"2024-12-31\"))]"
   ]
  },
  {
   "cell_type": "code",
   "execution_count": 328,
   "id": "936702c8",
   "metadata": {},
   "outputs": [
    {
     "name": "stdout",
     "output_type": "stream",
     "text": [
      "appid        0\n",
      "date         0\n",
      "daureal    194\n",
      "maureal     20\n",
      "dtype: int64\n",
      "\n",
      "Nans por app dau\n"
     ]
    },
    {
     "data": {
      "text/html": [
       "<div>\n",
       "<style scoped>\n",
       "    .dataframe tbody tr th:only-of-type {\n",
       "        vertical-align: middle;\n",
       "    }\n",
       "\n",
       "    .dataframe tbody tr th {\n",
       "        vertical-align: top;\n",
       "    }\n",
       "\n",
       "    .dataframe thead th {\n",
       "        text-align: right;\n",
       "    }\n",
       "</style>\n",
       "<table border=\"1\" class=\"dataframe\">\n",
       "  <thead>\n",
       "    <tr style=\"text-align: right;\">\n",
       "      <th></th>\n",
       "      <th>appid</th>\n",
       "      <th>daureal</th>\n",
       "    </tr>\n",
       "  </thead>\n",
       "  <tbody>\n",
       "    <tr>\n",
       "      <th>0</th>\n",
       "      <td>com.app.13071</td>\n",
       "      <td>47</td>\n",
       "    </tr>\n",
       "    <tr>\n",
       "      <th>1</th>\n",
       "      <td>com.app.14360</td>\n",
       "      <td>19</td>\n",
       "    </tr>\n",
       "    <tr>\n",
       "      <th>2</th>\n",
       "      <td>com.app.20651</td>\n",
       "      <td>21</td>\n",
       "    </tr>\n",
       "    <tr>\n",
       "      <th>3</th>\n",
       "      <td>com.app.32607</td>\n",
       "      <td>5</td>\n",
       "    </tr>\n",
       "    <tr>\n",
       "      <th>4</th>\n",
       "      <td>com.app.79907</td>\n",
       "      <td>21</td>\n",
       "    </tr>\n",
       "    <tr>\n",
       "      <th>5</th>\n",
       "      <td>com.app.81778</td>\n",
       "      <td>10</td>\n",
       "    </tr>\n",
       "    <tr>\n",
       "      <th>6</th>\n",
       "      <td>com.app.84679</td>\n",
       "      <td>47</td>\n",
       "    </tr>\n",
       "    <tr>\n",
       "      <th>7</th>\n",
       "      <td>com.app.91205</td>\n",
       "      <td>24</td>\n",
       "    </tr>\n",
       "  </tbody>\n",
       "</table>\n",
       "</div>"
      ],
      "text/plain": [
       "           appid  daureal\n",
       "0  com.app.13071       47\n",
       "1  com.app.14360       19\n",
       "2  com.app.20651       21\n",
       "3  com.app.32607        5\n",
       "4  com.app.79907       21\n",
       "5  com.app.81778       10\n",
       "6  com.app.84679       47\n",
       "7  com.app.91205       24"
      ]
     },
     "metadata": {},
     "output_type": "display_data"
    },
    {
     "name": "stdout",
     "output_type": "stream",
     "text": [
      "Nans por app mau\n"
     ]
    },
    {
     "data": {
      "text/html": [
       "<div>\n",
       "<style scoped>\n",
       "    .dataframe tbody tr th:only-of-type {\n",
       "        vertical-align: middle;\n",
       "    }\n",
       "\n",
       "    .dataframe tbody tr th {\n",
       "        vertical-align: top;\n",
       "    }\n",
       "\n",
       "    .dataframe thead th {\n",
       "        text-align: right;\n",
       "    }\n",
       "</style>\n",
       "<table border=\"1\" class=\"dataframe\">\n",
       "  <thead>\n",
       "    <tr style=\"text-align: right;\">\n",
       "      <th></th>\n",
       "      <th>appid</th>\n",
       "      <th>maureal</th>\n",
       "    </tr>\n",
       "  </thead>\n",
       "  <tbody>\n",
       "    <tr>\n",
       "      <th>0</th>\n",
       "      <td>com.app.90128</td>\n",
       "      <td>20</td>\n",
       "    </tr>\n",
       "  </tbody>\n",
       "</table>\n",
       "</div>"
      ],
      "text/plain": [
       "           appid  maureal\n",
       "0  com.app.90128       20"
      ]
     },
     "metadata": {},
     "output_type": "display_data"
    },
    {
     "name": "stdout",
     "output_type": "stream",
     "text": [
      "head() das dfs filtradas com NaN\n"
     ]
    },
    {
     "data": {
      "text/html": [
       "<div>\n",
       "<style scoped>\n",
       "    .dataframe tbody tr th:only-of-type {\n",
       "        vertical-align: middle;\n",
       "    }\n",
       "\n",
       "    .dataframe tbody tr th {\n",
       "        vertical-align: top;\n",
       "    }\n",
       "\n",
       "    .dataframe thead th {\n",
       "        text-align: right;\n",
       "    }\n",
       "</style>\n",
       "<table border=\"1\" class=\"dataframe\">\n",
       "  <thead>\n",
       "    <tr style=\"text-align: right;\">\n",
       "      <th></th>\n",
       "      <th>appid</th>\n",
       "      <th>date</th>\n",
       "      <th>daureal</th>\n",
       "      <th>maureal</th>\n",
       "    </tr>\n",
       "  </thead>\n",
       "  <tbody>\n",
       "    <tr>\n",
       "      <th>4989</th>\n",
       "      <td>com.app.90128</td>\n",
       "      <td>2024-01-12</td>\n",
       "      <td>37330</td>\n",
       "      <td>&lt;NA&gt;</td>\n",
       "    </tr>\n",
       "    <tr>\n",
       "      <th>4990</th>\n",
       "      <td>com.app.90128</td>\n",
       "      <td>2024-01-13</td>\n",
       "      <td>41617</td>\n",
       "      <td>&lt;NA&gt;</td>\n",
       "    </tr>\n",
       "    <tr>\n",
       "      <th>4991</th>\n",
       "      <td>com.app.90128</td>\n",
       "      <td>2024-01-14</td>\n",
       "      <td>44214</td>\n",
       "      <td>&lt;NA&gt;</td>\n",
       "    </tr>\n",
       "  </tbody>\n",
       "</table>\n",
       "</div>"
      ],
      "text/plain": [
       "              appid       date  daureal  maureal\n",
       "4989  com.app.90128 2024-01-12    37330     <NA>\n",
       "4990  com.app.90128 2024-01-13    41617     <NA>\n",
       "4991  com.app.90128 2024-01-14    44214     <NA>"
      ]
     },
     "metadata": {},
     "output_type": "display_data"
    },
    {
     "data": {
      "text/html": [
       "<div>\n",
       "<style scoped>\n",
       "    .dataframe tbody tr th:only-of-type {\n",
       "        vertical-align: middle;\n",
       "    }\n",
       "\n",
       "    .dataframe tbody tr th {\n",
       "        vertical-align: top;\n",
       "    }\n",
       "\n",
       "    .dataframe thead th {\n",
       "        text-align: right;\n",
       "    }\n",
       "</style>\n",
       "<table border=\"1\" class=\"dataframe\">\n",
       "  <thead>\n",
       "    <tr style=\"text-align: right;\">\n",
       "      <th></th>\n",
       "      <th>appid</th>\n",
       "      <th>date</th>\n",
       "      <th>daureal</th>\n",
       "      <th>maureal</th>\n",
       "    </tr>\n",
       "  </thead>\n",
       "  <tbody>\n",
       "    <tr>\n",
       "      <th>3038</th>\n",
       "      <td>com.app.20651</td>\n",
       "      <td>2024-01-02</td>\n",
       "      <td>&lt;NA&gt;</td>\n",
       "      <td>2266</td>\n",
       "    </tr>\n",
       "    <tr>\n",
       "      <th>3039</th>\n",
       "      <td>com.app.20651</td>\n",
       "      <td>2024-01-04</td>\n",
       "      <td>&lt;NA&gt;</td>\n",
       "      <td>2234</td>\n",
       "    </tr>\n",
       "    <tr>\n",
       "      <th>3040</th>\n",
       "      <td>com.app.20651</td>\n",
       "      <td>2024-01-05</td>\n",
       "      <td>&lt;NA&gt;</td>\n",
       "      <td>2326</td>\n",
       "    </tr>\n",
       "  </tbody>\n",
       "</table>\n",
       "</div>"
      ],
      "text/plain": [
       "              appid       date  daureal  maureal\n",
       "3038  com.app.20651 2024-01-02     <NA>     2266\n",
       "3039  com.app.20651 2024-01-04     <NA>     2234\n",
       "3040  com.app.20651 2024-01-05     <NA>     2326"
      ]
     },
     "metadata": {},
     "output_type": "display_data"
    }
   ],
   "source": [
    "# Problema dos NaNs (resolvidoi após o join)\n",
    "\n",
    "# Filtra apenas numeros faltantes\n",
    "df_temp = raw_data['daumau'].copy()\n",
    "print(df_temp.isna().sum())\n",
    "df_temp_dau = df_temp[df_temp['daureal'].isna()]\n",
    "df_temp_mau = df_temp[df_temp['maureal'].isna()]\n",
    "\n",
    "# Separa dau e mau e analisa nans por app\n",
    "nans_por_app_dau = df_temp_dau.fillna(1).groupby('appid',as_index=False)['daureal'].sum()\n",
    "nans_por_app_mau = df_temp_mau.fillna(1).groupby('appid',as_index=False)['maureal'].sum()\n",
    "print(\"\\nNans por app dau\")\n",
    "display(nans_por_app_dau)\n",
    "\n",
    "print(\"Nans por app mau\")\n",
    "display(nans_por_app_mau)\n",
    "\n",
    "# Maureal está nan, mas daureal tem numeros altos (ultimos 30 dias)\n",
    "# Indica que maureal não é 0\n",
    "# Por ser poucos valores (<1%), ainda não vale a pena remover\n",
    "\n",
    "print(\"head() das dfs filtradas com NaN\")\n",
    "display(df_temp_mau.head(3))\n",
    "\n",
    "# Daureal também possui poucos valores NaN. cada app perderia em média menos de 1 mês\n",
    "# Ainda não vale a pena remover\n",
    "\n",
    "display(df_temp_dau.head(3))"
   ]
  },
  {
   "cell_type": "markdown",
   "id": "3743444e",
   "metadata": {},
   "source": [
    "### Installs + Desinstalações\n",
    "- Os dados não apresentam nenhuma inconsistência incialmente\n",
    "- Realizar join de installs e desinstalações\n",
    "- Inconsistência de valores nulos apareceu depois do join"
   ]
  },
  {
   "cell_type": "code",
   "execution_count": 329,
   "id": "832df418",
   "metadata": {},
   "outputs": [
    {
     "name": "stdout",
     "output_type": "stream",
     "text": [
      "Len: 53701\n"
     ]
    },
    {
     "data": {
      "text/plain": [
       "appid                0\n",
       "date                 0\n",
       "newinstalls       5551\n",
       "predictionloss     342\n",
       "dtype: int64"
      ]
     },
     "execution_count": 329,
     "metadata": {},
     "output_type": "execute_result"
    }
   ],
   "source": [
    "# Merge\n",
    "raw_data['app_data'] = raw_data['installs'].merge(raw_data['desinstalacoes'], on=['appid','date'], how='outer')\n",
    "\n",
    "# Drop colunas irrelevantes\n",
    "raw_data['app_data'].drop(['lang','country'], axis=1, inplace=True)\n",
    "\n",
    "# Tamanho\n",
    "print(f\"Len: {len(raw_data['app_data'])}\")\n",
    "\n",
    "# Valores NA após o join\n",
    "df_temp = raw_data['app_data'].copy()\n",
    "\n",
    "# Resultado\n",
    "raw_data['app_data'] = df_temp.copy()\n",
    "df_temp.isna().sum()"
   ]
  },
  {
   "cell_type": "markdown",
   "id": "0ccbcb9c",
   "metadata": {},
   "source": [
    "### Rating reviews\n",
    "- Nenhuma inconsistência inicial\n",
    "- Valores de daily ratings e daily reviews negativos podem ser remoções ou bugs, por enquanto mantemos"
   ]
  },
  {
   "cell_type": "code",
   "execution_count": 330,
   "id": "84095339",
   "metadata": {},
   "outputs": [
    {
     "data": {
      "text/html": [
       "<div>\n",
       "<style scoped>\n",
       "    .dataframe tbody tr th:only-of-type {\n",
       "        vertical-align: middle;\n",
       "    }\n",
       "\n",
       "    .dataframe tbody tr th {\n",
       "        vertical-align: top;\n",
       "    }\n",
       "\n",
       "    .dataframe thead th {\n",
       "        text-align: right;\n",
       "    }\n",
       "</style>\n",
       "<table border=\"1\" class=\"dataframe\">\n",
       "  <thead>\n",
       "    <tr style=\"text-align: right;\">\n",
       "      <th></th>\n",
       "      <th>date</th>\n",
       "      <th>appid</th>\n",
       "      <th>category</th>\n",
       "      <th>ratings</th>\n",
       "      <th>daily_ratings</th>\n",
       "      <th>reviews</th>\n",
       "      <th>daily_reviews</th>\n",
       "    </tr>\n",
       "  </thead>\n",
       "  <tbody>\n",
       "    <tr>\n",
       "      <th>0</th>\n",
       "      <td>2024-01-01</td>\n",
       "      <td>com.app.40009</td>\n",
       "      <td>OTHERS</td>\n",
       "      <td>63500</td>\n",
       "      <td>5</td>\n",
       "      <td>25251</td>\n",
       "      <td>0</td>\n",
       "    </tr>\n",
       "    <tr>\n",
       "      <th>1</th>\n",
       "      <td>2024-01-01</td>\n",
       "      <td>com.app.88516</td>\n",
       "      <td>OTHERS</td>\n",
       "      <td>2440</td>\n",
       "      <td>0</td>\n",
       "      <td>312</td>\n",
       "      <td>0</td>\n",
       "    </tr>\n",
       "    <tr>\n",
       "      <th>2</th>\n",
       "      <td>2024-01-01</td>\n",
       "      <td>com.app.64634</td>\n",
       "      <td>TRAVEL_AND_LOCAL</td>\n",
       "      <td>536</td>\n",
       "      <td>0</td>\n",
       "      <td>331</td>\n",
       "      <td>0</td>\n",
       "    </tr>\n",
       "    <tr>\n",
       "      <th>3</th>\n",
       "      <td>2024-01-01</td>\n",
       "      <td>com.app.78470</td>\n",
       "      <td>SHOPPING</td>\n",
       "      <td>97924</td>\n",
       "      <td>7</td>\n",
       "      <td>27241</td>\n",
       "      <td>23</td>\n",
       "    </tr>\n",
       "    <tr>\n",
       "      <th>4</th>\n",
       "      <td>2024-01-01</td>\n",
       "      <td>com.app.36433</td>\n",
       "      <td>FINANCE</td>\n",
       "      <td>678</td>\n",
       "      <td>0</td>\n",
       "      <td>414</td>\n",
       "      <td>0</td>\n",
       "    </tr>\n",
       "    <tr>\n",
       "      <th>...</th>\n",
       "      <td>...</td>\n",
       "      <td>...</td>\n",
       "      <td>...</td>\n",
       "      <td>...</td>\n",
       "      <td>...</td>\n",
       "      <td>...</td>\n",
       "      <td>...</td>\n",
       "    </tr>\n",
       "    <tr>\n",
       "      <th>47150</th>\n",
       "      <td>2024-09-30</td>\n",
       "      <td>com.app.14509</td>\n",
       "      <td>FINANCE</td>\n",
       "      <td>1426039</td>\n",
       "      <td>452</td>\n",
       "      <td>618170</td>\n",
       "      <td>108</td>\n",
       "    </tr>\n",
       "    <tr>\n",
       "      <th>47151</th>\n",
       "      <td>2024-09-30</td>\n",
       "      <td>com.app.18711</td>\n",
       "      <td>BUSINESS</td>\n",
       "      <td>63943</td>\n",
       "      <td>28</td>\n",
       "      <td>16929</td>\n",
       "      <td>14</td>\n",
       "    </tr>\n",
       "    <tr>\n",
       "      <th>47152</th>\n",
       "      <td>2024-09-30</td>\n",
       "      <td>com.app.14811</td>\n",
       "      <td>FINANCE</td>\n",
       "      <td>8863</td>\n",
       "      <td>2</td>\n",
       "      <td>4938</td>\n",
       "      <td>2</td>\n",
       "    </tr>\n",
       "    <tr>\n",
       "      <th>47153</th>\n",
       "      <td>2024-09-30</td>\n",
       "      <td>com.app.20103</td>\n",
       "      <td>FINANCE</td>\n",
       "      <td>1542</td>\n",
       "      <td>0</td>\n",
       "      <td>1152</td>\n",
       "      <td>0</td>\n",
       "    </tr>\n",
       "    <tr>\n",
       "      <th>47154</th>\n",
       "      <td>2024-09-30</td>\n",
       "      <td>com.app.74881</td>\n",
       "      <td>FINANCE</td>\n",
       "      <td>29642</td>\n",
       "      <td>36</td>\n",
       "      <td>12931</td>\n",
       "      <td>9</td>\n",
       "    </tr>\n",
       "  </tbody>\n",
       "</table>\n",
       "<p>47155 rows × 7 columns</p>\n",
       "</div>"
      ],
      "text/plain": [
       "            date          appid          category  ratings  daily_ratings  \\\n",
       "0     2024-01-01  com.app.40009            OTHERS    63500              5   \n",
       "1     2024-01-01  com.app.88516            OTHERS     2440              0   \n",
       "2     2024-01-01  com.app.64634  TRAVEL_AND_LOCAL      536              0   \n",
       "3     2024-01-01  com.app.78470          SHOPPING    97924              7   \n",
       "4     2024-01-01  com.app.36433           FINANCE      678              0   \n",
       "...          ...            ...               ...      ...            ...   \n",
       "47150 2024-09-30  com.app.14509           FINANCE  1426039            452   \n",
       "47151 2024-09-30  com.app.18711          BUSINESS    63943             28   \n",
       "47152 2024-09-30  com.app.14811           FINANCE     8863              2   \n",
       "47153 2024-09-30  com.app.20103           FINANCE     1542              0   \n",
       "47154 2024-09-30  com.app.74881           FINANCE    29642             36   \n",
       "\n",
       "       reviews  daily_reviews  \n",
       "0        25251              0  \n",
       "1          312              0  \n",
       "2          331              0  \n",
       "3        27241             23  \n",
       "4          414              0  \n",
       "...        ...            ...  \n",
       "47150   618170            108  \n",
       "47151    16929             14  \n",
       "47152     4938              2  \n",
       "47153     1152              0  \n",
       "47154    12931              9  \n",
       "\n",
       "[47155 rows x 7 columns]"
      ]
     },
     "execution_count": 330,
     "metadata": {},
     "output_type": "execute_result"
    }
   ],
   "source": [
    "raw_data['ratings_reviews']"
   ]
  },
  {
   "cell_type": "markdown",
   "id": "359bd582",
   "metadata": {},
   "source": [
    "# União das tabelas"
   ]
  },
  {
   "cell_type": "code",
   "execution_count": 598,
   "id": "32d0c955",
   "metadata": {},
   "outputs": [],
   "source": [
    "# Merge\n",
    "final_df = raw_data['app_data'].merge(raw_data['daumau'], on=['appid','date'], how='outer').copy()\n",
    "final_df = final_df.merge(raw_data['ratings_reviews'], on=['appid','date'], how='outer')\n",
    "\n",
    "# Drop duplicates\n",
    "final_df.drop_duplicates(inplace=True)"
   ]
  },
  {
   "cell_type": "markdown",
   "id": "4b2242c4",
   "metadata": {},
   "source": [
    "### Tratamento dos NaNs - remoção de apps\n",
    "- Filtra apps não desejáveis para o treinamento"
   ]
  },
  {
   "cell_type": "code",
   "execution_count": 599,
   "id": "f7ee0bfd",
   "metadata": {},
   "outputs": [
    {
     "name": "stdout",
     "output_type": "stream",
     "text": [
      "Len pré filtro: 53657\n"
     ]
    },
    {
     "data": {
      "text/plain": [
       "appid                 0\n",
       "date                  0\n",
       "newinstalls        5678\n",
       "predictionloss      469\n",
       "daureal           12806\n",
       "maureal           12632\n",
       "category           6502\n",
       "ratings            6502\n",
       "daily_ratings      6502\n",
       "reviews            6502\n",
       "daily_reviews      6502\n",
       "dtype: int64"
      ]
     },
     "execution_count": 599,
     "metadata": {},
     "output_type": "execute_result"
    }
   ],
   "source": [
    "# Valores nulos em cada coluna\n",
    "print(f\"Len pré filtro: {len(final_df)}\")\n",
    "final_df.isna().sum()"
   ]
  },
  {
   "cell_type": "code",
   "execution_count": 600,
   "id": "785d20b5",
   "metadata": {},
   "outputs": [],
   "source": [
    "# Agrupamento por app para ver NaNs por linhas\n",
    "nan_counts = final_df.groupby('appid', as_index=False).agg(\n",
    "    total_count=('newinstalls', 'size'),\n",
    "    newinstalls_nan=('newinstalls', lambda x: x.isna().sum()),\n",
    "    predictionloss_nan=('predictionloss', lambda x: x.isna().sum()),\n",
    "    daureal_nan=('daureal', lambda x: x.isna().sum()),\n",
    "    maureal_nan=('maureal', lambda x: x.isna().sum()),\n",
    "    ratings_nan=('ratings', lambda x: x.isna().sum()),\n",
    "    daily_ratings_nan=('daily_ratings', lambda x: x.isna().sum()),\n",
    "    reviews_nan=('reviews', lambda x: x.isna().sum()),\n",
    "    daily_reviews_nan=('daily_reviews', lambda x: x.isna().sum())\n",
    ")\n",
    "\n",
    "# Numero maximo de nans que uma coluna tem\n",
    "nan_cols = [x for x in nan_counts.columns if x not in ['appid','total_count','max_nans','nan_perc','nans_sum']]\n",
    "nan_counts['max_nans'] = nan_counts[nan_cols].max(axis=1)\n",
    "nan_counts['sum_nans'] = nan_counts[nan_cols].sum(axis=1)\n",
    "\n",
    "# Porcentagem das linhas que possuem NaN\n",
    "nan_counts['nan_perc'] = nan_counts['max_nans'] / nan_counts['total_count']\n",
    "nan_counts['daureal_perc'] = nan_counts['maureal_nan'] / nan_counts['total_count']"
   ]
  },
  {
   "cell_type": "code",
   "execution_count": 601,
   "id": "4bfe6224",
   "metadata": {},
   "outputs": [
    {
     "data": {
      "text/plain": [
       "<Axes: >"
      ]
     },
     "execution_count": 601,
     "metadata": {},
     "output_type": "execute_result"
    },
    {
     "data": {
      "image/png": "[encoded data removed]",
      "text/plain": [
       "<Figure size 640x480 with 1 Axes>"
      ]
     },
     "metadata": {},
     "output_type": "display_data"
    }
   ],
   "source": [
    "# Distribuição de porcentagem de NaNs por app (antes do filtro)\n",
    "nan_counts['nan_perc'].hist()"
   ]
  },
  {
   "cell_type": "code",
   "execution_count": 602,
   "id": "d50c37a2",
   "metadata": {},
   "outputs": [],
   "source": [
    "# Filtro de NaNs\n",
    "\n",
    "len_data_cols = len(nan_cols) # Numero de colunas features\n",
    "threshold = 0.3 # Quanto % dessas colunas podem ser nulas\n",
    "\n",
    "# Retira apps com mais de 30% de NaNs no target\n",
    "nan_counts = nan_counts[nan_counts['daureal_perc']<0.3]\n",
    "\n",
    "# Gera uma métrica threshold que considera numero de nans e colunas\n",
    "# O objetivo é retirar apps com muitas colunas inconsistentes\n",
    "nan_counts['sum_nans_threshold'] = len_data_cols * nan_counts['total_count'] * threshold\n",
    "\n",
    "# Faz o filtro do threshold\n",
    "nan_counts = nan_counts[nan_counts['sum_nans'] < nan_counts['sum_nans_threshold']]\n",
    "\n",
    "# Filtro dos apps restantes\n",
    "apps_filtro = nan_counts['appid'].unique()"
   ]
  },
  {
   "cell_type": "code",
   "execution_count": 603,
   "id": "c2126355",
   "metadata": {},
   "outputs": [
    {
     "data": {
      "text/plain": [
       "<Axes: >"
      ]
     },
     "execution_count": 603,
     "metadata": {},
     "output_type": "execute_result"
    },
    {
     "data": {
      "image/png": "[encoded data removed]",
      "text/plain": [
       "<Figure size 640x480 with 1 Axes>"
      ]
     },
     "metadata": {},
     "output_type": "display_data"
    }
   ],
   "source": [
    "# Distribuição de porcentagem de NaNs por app (após filtro)\n",
    "nan_counts['nan_perc'].hist()"
   ]
  },
  {
   "cell_type": "markdown",
   "id": "08bf71ef",
   "metadata": {},
   "source": [
    "### Tratamento de NaNs - Tabela de features\n",
    "- Tratamentos direto na tabela final"
   ]
  },
  {
   "cell_type": "code",
   "execution_count": 618,
   "id": "bc59f265",
   "metadata": {},
   "outputs": [
    {
     "name": "stdout",
     "output_type": "stream",
     "text": [
      "Len pré filtro: 53657\n",
      "Nova len: 35383\n"
     ]
    }
   ],
   "source": [
    "print(f\"Len pré filtro: {len(final_df)}\")\n",
    "\n",
    "# Filtra os apps selecionados anteriormente\n",
    "filtered_df = final_df[final_df['appid'].isin(apps_filtro)].reset_index(drop=True).copy()\n",
    "\n",
    "# Se 4 colunas forem NaN, remove a linha\n",
    "filtered_df = filtered_df[filtered_df.isna().sum(axis=1) < 4].copy()\n",
    "\n",
    "print(f\"Nova len: {len(filtered_df)}\")"
   ]
  },
  {
   "cell_type": "code",
   "execution_count": 633,
   "id": "b796ac0f",
   "metadata": {},
   "outputs": [],
   "source": [
    "# Preenchimento dos valores de NaN com a mediana de cada app\n",
    "colunas_numericas = ['newinstalls','predictionloss','daureal','maureal','ratings','daily_ratings','reviews','daily_reviews']\n",
    "\n",
    "fill_df = preencher_com_mediana(filtered_df, colunas_numericas)"
   ]
  },
  {
   "cell_type": "code",
   "execution_count": 634,
   "id": "451a5417",
   "metadata": {},
   "outputs": [
    {
     "data": {
      "text/html": [
       "<div>\n",
       "<style scoped>\n",
       "    .dataframe tbody tr th:only-of-type {\n",
       "        vertical-align: middle;\n",
       "    }\n",
       "\n",
       "    .dataframe tbody tr th {\n",
       "        vertical-align: top;\n",
       "    }\n",
       "\n",
       "    .dataframe thead th {\n",
       "        text-align: right;\n",
       "    }\n",
       "</style>\n",
       "<table border=\"1\" class=\"dataframe\">\n",
       "  <thead>\n",
       "    <tr style=\"text-align: right;\">\n",
       "      <th></th>\n",
       "      <th>appid</th>\n",
       "      <th>date</th>\n",
       "      <th>newinstalls</th>\n",
       "      <th>predictionloss</th>\n",
       "      <th>daureal</th>\n",
       "      <th>maureal</th>\n",
       "      <th>category</th>\n",
       "      <th>ratings</th>\n",
       "      <th>daily_ratings</th>\n",
       "      <th>reviews</th>\n",
       "      <th>daily_reviews</th>\n",
       "    </tr>\n",
       "  </thead>\n",
       "  <tbody>\n",
       "    <tr>\n",
       "      <th>0</th>\n",
       "      <td>com.app.86367</td>\n",
       "      <td>2024-01-01</td>\n",
       "      <td>1968</td>\n",
       "      <td>2438</td>\n",
       "      <td>89883</td>\n",
       "      <td>660867</td>\n",
       "      <td>FINANCE</td>\n",
       "      <td>41891</td>\n",
       "      <td>28</td>\n",
       "      <td>18151</td>\n",
       "      <td>37</td>\n",
       "    </tr>\n",
       "    <tr>\n",
       "      <th>1</th>\n",
       "      <td>com.app.18711</td>\n",
       "      <td>2024-01-01</td>\n",
       "      <td>1364</td>\n",
       "      <td>2184</td>\n",
       "      <td>78810</td>\n",
       "      <td>422698</td>\n",
       "      <td>BUSINESS</td>\n",
       "      <td>56121</td>\n",
       "      <td>4</td>\n",
       "      <td>14906</td>\n",
       "      <td>3</td>\n",
       "    </tr>\n",
       "    <tr>\n",
       "      <th>2</th>\n",
       "      <td>com.app.36257</td>\n",
       "      <td>2024-01-01</td>\n",
       "      <td>7511</td>\n",
       "      <td>8388</td>\n",
       "      <td>475571</td>\n",
       "      <td>1974569</td>\n",
       "      <td>BUSINESS</td>\n",
       "      <td>97211</td>\n",
       "      <td>12</td>\n",
       "      <td>56560</td>\n",
       "      <td>26</td>\n",
       "    </tr>\n",
       "    <tr>\n",
       "      <th>3</th>\n",
       "      <td>com.app.88509</td>\n",
       "      <td>2024-01-01</td>\n",
       "      <td>53137</td>\n",
       "      <td>27530</td>\n",
       "      <td>4094009</td>\n",
       "      <td>24681884</td>\n",
       "      <td>OTHERS</td>\n",
       "      <td>961533</td>\n",
       "      <td>365</td>\n",
       "      <td>496734</td>\n",
       "      <td>157</td>\n",
       "    </tr>\n",
       "    <tr>\n",
       "      <th>4</th>\n",
       "      <td>com.app.93131</td>\n",
       "      <td>2024-01-01</td>\n",
       "      <td>137</td>\n",
       "      <td>1785</td>\n",
       "      <td>12443</td>\n",
       "      <td>33407</td>\n",
       "      <td>BUSINESS</td>\n",
       "      <td>2958</td>\n",
       "      <td>1</td>\n",
       "      <td>1241</td>\n",
       "      <td>1</td>\n",
       "    </tr>\n",
       "  </tbody>\n",
       "</table>\n",
       "</div>"
      ],
      "text/plain": [
       "           appid       date  newinstalls  predictionloss  daureal   maureal  \\\n",
       "0  com.app.86367 2024-01-01         1968            2438    89883    660867   \n",
       "1  com.app.18711 2024-01-01         1364            2184    78810    422698   \n",
       "2  com.app.36257 2024-01-01         7511            8388   475571   1974569   \n",
       "3  com.app.88509 2024-01-01        53137           27530  4094009  24681884   \n",
       "4  com.app.93131 2024-01-01          137            1785    12443     33407   \n",
       "\n",
       "   category  ratings  daily_ratings  reviews  daily_reviews  \n",
       "0   FINANCE    41891             28    18151             37  \n",
       "1  BUSINESS    56121              4    14906              3  \n",
       "2  BUSINESS    97211             12    56560             26  \n",
       "3    OTHERS   961533            365   496734            157  \n",
       "4  BUSINESS     2958              1     1241              1  "
      ]
     },
     "execution_count": 634,
     "metadata": {},
     "output_type": "execute_result"
    }
   ],
   "source": [
    "fill_df.head()"
   ]
  },
  {
   "cell_type": "markdown",
   "id": "2f91e7ea",
   "metadata": {},
   "source": [
    "# Salva na base"
   ]
  },
  {
   "cell_type": "code",
   "execution_count": 635,
   "id": "27ae8e49",
   "metadata": {},
   "outputs": [],
   "source": [
    "fill_df.to_csv(\"../data/base_tratada.csv\",index=False)"
   ]
  },
  {
   "cell_type": "code",
   "execution_count": null,
   "id": "ac83da32",
   "metadata": {},
   "outputs": [],
   "source": []
  }
 ],
 "metadata": {
  "kernelspec": {
   "display_name": "base-plus",
   "language": "python",
   "name": "python3"
  },
  "language_info": {
   "codemirror_mode": {
    "name": "ipython",
    "version": 3
   },
   "file_extension": ".py",
   "mimetype": "text/x-python",
   "name": "python",
   "nbconvert_exporter": "python",
   "pygments_lexer": "ipython3",
   "version": "3.11.7"
  }
 },
 "nbformat": 4,
 "nbformat_minor": 5
}
